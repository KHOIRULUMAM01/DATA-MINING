{
 "cells": [
  {
   "cell_type": "code",
   "execution_count": 93,
   "id": "65c631ea",
   "metadata": {},
   "outputs": [],
   "source": [
    "import numpy as np \n",
    "import pandas as pd \n",
    "from sklearn import tree\n",
    "from sklearn.preprocessing import LabelEncoder\n",
    "from sklearn.model_selection import train_test_split"
   ]
  },
  {
   "cell_type": "code",
   "execution_count": 94,
   "id": "25b3c5a9",
   "metadata": {},
   "outputs": [],
   "source": [
    "zooDataset = pd.read_csv('C:/Users/ThinkPad/Data-Science/Air-quality-dataset/PRSA_Data_20130301-20170228/ZOO.csv', delimiter=',', header=0)\n",
    "zooDataset = zooDataset.drop(labels=\"Id\", axis=1)\n",
    "label_encoder = LabelEncoder()\n",
    "zooDataset[\"animal_name\"] = label_encoder.fit_transform(zooDataset[\"animal_name\"])"
   ]
  },
  {
   "cell_type": "code",
   "execution_count": 95,
   "id": "0d9283c7",
   "metadata": {},
   "outputs": [],
   "source": [
    "X = zooDataset.drop(labels=\"class_type\", axis=1)\n",
    "y = zooDataset[\"class_type\"]"
   ]
  },
  {
   "cell_type": "code",
   "execution_count": 96,
   "id": "15084b79",
   "metadata": {},
   "outputs": [],
   "source": [
    "X_train, X_test, y_train, y_test = train_test_split(X, y, test_size=0.2, random_state=42)\n",
    "inputTraining = X_train.iloc[:, [1, 2, 3, 4, 5, 6, 7, 8, 9, 10, 11, 12, 13, 14, 15, 16]]\n",
    "inputTesting = X_test.iloc[:, [1, 2, 3, 4, 5, 6, 7, 8, 9, 10, 11, 12, 13, 14, 15, 16]]"
   ]
  },
  {
   "cell_type": "code",
   "execution_count": 97,
   "id": "ecb8e849",
   "metadata": {},
   "outputs": [
    {
     "name": "stdout",
     "output_type": "stream",
     "text": [
      "label sebenarnya  ['mammal' 'mammal' 'mammal' 'mammal' 'mammal' 'bug' 'mammal' 'mammal'\n",
      " 'mammal' 'mammal' 'fish' 'bug' 'bug' 'bird' 'invertebrata' 'mammal'\n",
      " 'mammal' 'bird' 'fish' 'mammal' 'reptile']\n",
      "hasil prediksi:  ['mammal' 'mammal' 'mammal' 'mammal' 'mammal' 'bug' 'mammal' 'mammal'\n",
      " 'mammal' 'mammal' 'fish' 'bug' 'bug' 'bird' 'invertebrata' 'mammal'\n",
      " 'mammal' 'bird' 'fish' 'mammal' 'amphibian']\n",
      "prediksi benar:  20 data\n",
      "prediksi salah:  1 data\n",
      "akurasi:  95.23809523809523 %\n"
     ]
    }
   ],
   "source": [
    "model = tree.DecisionTreeClassifier()\n",
    "model = model.fit(inputTraining, y_train)\n",
    "hasilPrediksi = model.predict(inputTesting) \n",
    "print(\"label sebenarnya \", y_test.to_numpy())\n",
    "print(\"hasil prediksi: \", hasilPrediksi)\n",
    "prediksiBenar = (hasilPrediksi == y_test).sum()\n",
    "prediksiSalah = (hasilPrediksi != y_test).sum()\n",
    "print(\"prediksi benar: \", prediksiBenar, \"data\")\n",
    "print(\"prediksi salah: \", prediksiSalah, \"data\")\n",
    "print(\"akurasi: \", prediksiBenar / (prediksiBenar + prediksiSalah) * 100, \"%\")"
   ]
  },
  {
   "cell_type": "code",
   "execution_count": null,
   "id": "ed7b064b",
   "metadata": {},
   "outputs": [],
   "source": []
  }
 ],
 "metadata": {
  "kernelspec": {
   "display_name": "Python 3 (ipykernel)",
   "language": "python",
   "name": "python3"
  },
  "language_info": {
   "codemirror_mode": {
    "name": "ipython",
    "version": 3
   },
   "file_extension": ".py",
   "mimetype": "text/x-python",
   "name": "python",
   "nbconvert_exporter": "python",
   "pygments_lexer": "ipython3",
   "version": "3.11.4"
  }
 },
 "nbformat": 4,
 "nbformat_minor": 5
}
